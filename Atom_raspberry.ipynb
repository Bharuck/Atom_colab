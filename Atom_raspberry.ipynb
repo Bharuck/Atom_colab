{
  "cells": [
    {
      "cell_type": "markdown",
      "metadata": {
        "id": "view-in-github",
        "colab_type": "text"
      },
      "source": [
        "<a href=\"https://colab.research.google.com/github/Bharuck/Atom_colab/blob/main/Atom_raspberry.ipynb\" target=\"_parent\"><img src=\"https://colab.research.google.com/assets/colab-badge.svg\" alt=\"Open In Colab\"/></a>"
      ]
    },
    {
      "cell_type": "markdown",
      "source": [
        "Clase Robot"
      ],
      "metadata": {
        "id": "KzUxaY4F3B4d"
      }
    },
    {
      "cell_type": "code",
      "source": [
        "class Robot:\n",
        "    def __init__(self):\n",
        "        self.Rotx = 0\n",
        "        self.Roty = 0\n",
        "        self.Rotz = 0\n",
        "        self.DH = 0\n",
        "\n",
        "    def set_Rotx(self, angle):\n",
        "        self.Rotx = angle\n",
        "\n",
        "    def set_Roty(self, angle):\n",
        "        self.Roty = angle\n",
        "\n",
        "    def set_Rotz(self, angle):\n",
        "        self.Rotz = angle\n",
        "\n",
        "    def set_DH(self, value):\n",
        "        self.DH = value"
      ],
      "metadata": {
        "id": "-OclfMmu2uC3"
      },
      "execution_count": 3,
      "outputs": []
    },
    {
      "cell_type": "markdown",
      "source": [
        "Clase Bipedo"
      ],
      "metadata": {
        "id": "Qgn4G9hH3F1r"
      }
    },
    {
      "cell_type": "code",
      "source": [
        "class Biped(Robot):\n",
        "    def __init__(self):\n",
        "        super().__init__()\n",
        "        self.steps = 0\n",
        "\n",
        "    def walk(self):\n",
        "        self.steps += 1"
      ],
      "metadata": {
        "id": "_Ld4Ws6o3FKY"
      },
      "execution_count": 4,
      "outputs": []
    },
    {
      "cell_type": "markdown",
      "source": [
        "Clase Humanoide Bípedo\n"
      ],
      "metadata": {
        "id": "uH3YrTY03ICw"
      }
    },
    {
      "cell_type": "code",
      "source": [],
      "metadata": {
        "id": "qBU3Ud-t3K6i"
      },
      "execution_count": null,
      "outputs": []
    }
  ],
  "metadata": {
    "colab": {
      "name": "Te damos la bienvenida a Colaboratory",
      "provenance": [],
      "include_colab_link": true
    },
    "kernelspec": {
      "display_name": "Python 3",
      "name": "python3"
    }
  },
  "nbformat": 4,
  "nbformat_minor": 0
}